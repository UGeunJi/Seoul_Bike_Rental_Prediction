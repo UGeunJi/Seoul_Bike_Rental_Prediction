{
 "cells": [
  {
   "cell_type": "markdown",
   "id": "87d3b6dc",
   "metadata": {},
   "source": [
    "## RandomForest"
   ]
  },
  {
   "cell_type": "code",
   "execution_count": 33,
   "id": "bfa6ea22",
   "metadata": {},
   "outputs": [],
   "source": [
    "import pandas as pd\n",
    "import seaborn as sns\n",
    "from sklearn.tree import DecisionTreeRegressor\n",
    "from sklearn.ensemble import RandomForestRegressor\n",
    "import matplotlib.pyplot as plt\n",
    "from sklearn.model_selection import train_test_split\n",
    "from sklearn.ensemble import RandomForestClassifier\n",
    "from sklearn.metrics import accuracy_score"
   ]
  },
  {
   "cell_type": "code",
   "execution_count": 34,
   "id": "100a3084",
   "metadata": {},
   "outputs": [],
   "source": [
    "train = pd.read_csv('data/train_one.csv') \n",
    "test = pd.read_csv('data/test_one.csv')"
   ]
  },
  {
   "cell_type": "code",
   "execution_count": 35,
   "id": "a85da642",
   "metadata": {},
   "outputs": [],
   "source": [
    "X = train.drop('count', axis = 1)\n",
    "y = train['count']\n",
    "X_train, X_test, y_train, y_test = train_test_split(X, y, test_size = 0.2, random_state = 42)"
   ]
  },
  {
   "cell_type": "code",
   "execution_count": 55,
   "id": "23357072",
   "metadata": {
    "scrolled": true
   },
   "outputs": [
    {
     "name": "stdout",
     "output_type": "stream",
     "text": [
      "최적 하이퍼 파라미터:\n",
      " {'max_depth': 16, 'min_samples_leaf': 1, 'min_samples_split': 2}\n",
      "최고 예측 정확도:  0.7424\n"
     ]
    }
   ],
   "source": [
    "from sklearn.model_selection import GridSearchCV\n",
    "\n",
    "params = {\n",
    "    'max_depth': [8, 16, 24],\n",
    "    'min_samples_leaf': [1, 6, 12],\n",
    "    'min_samples_split': [2, 8, 16]\n",
    "}\n",
    "rf_clf = RandomForestRegressor(n_estimators=100, random_state=0, n_jobs=-1)\n",
    "grid_cv = GridSearchCV(rf_clf, param_grid=params, cv=5, n_jobs=-1)\n",
    "grid_cv.fit(X_train, y_train)\n",
    "\n",
    "print('최적 하이퍼 파라미터:\\n', grid_cv.best_params_)\n",
    "print('최고 예측 정확도: {0: .4f}'.format(grid_cv.best_score_))"
   ]
  },
  {
   "cell_type": "markdown",
   "id": "57c3624a",
   "metadata": {},
   "source": [
    "## Submission"
   ]
  },
  {
   "cell_type": "code",
   "execution_count": 12,
   "id": "73870472",
   "metadata": {},
   "outputs": [],
   "source": [
    "import warnings"
   ]
  },
  {
   "cell_type": "code",
   "execution_count": 13,
   "id": "e087fa88",
   "metadata": {},
   "outputs": [],
   "source": [
    "warnings.filterwarnings('ignore')"
   ]
  },
  {
   "cell_type": "code",
   "execution_count": 14,
   "id": "43edac32",
   "metadata": {},
   "outputs": [],
   "source": [
    "train = pd.read_csv('data/train_one.csv') \n",
    "test = pd.read_csv('data/test_one.csv')\n",
    "submission = pd.read_csv('data/submission.csv')"
   ]
  },
  {
   "cell_type": "code",
   "execution_count": 15,
   "id": "e3ba218b",
   "metadata": {},
   "outputs": [
    {
     "data": {
      "text/plain": [
       "((1459, 7), (715, 6), (715, 2))"
      ]
     },
     "execution_count": 15,
     "metadata": {},
     "output_type": "execute_result"
    }
   ],
   "source": [
    "train.shape, test.shape, submission.shape"
   ]
  },
  {
   "cell_type": "code",
   "execution_count": 16,
   "id": "aad800fe",
   "metadata": {},
   "outputs": [],
   "source": [
    "from sklearn.tree import DecisionTreeRegressor\n",
    "from sklearn.ensemble import RandomForestRegressor\n",
    "features = ['hour', 'hour_bef_temperature', 'hour_bef_precipitation', 'hour_bef_windspeed', 'hour_bef_humidity', 'hour_bef_ozone']\n",
    "X_train = train[features]\n",
    "y_train = train['count']\n",
    "X_test = test[features]"
   ]
  },
  {
   "cell_type": "code",
   "execution_count": 17,
   "id": "ea34beb0",
   "metadata": {},
   "outputs": [],
   "source": [
    "model100 = RandomForestRegressor(n_estimators = 100, min_samples_leaf = 1, max_depth = 24, min_samples_split=2, random_state = 0) \n",
    "\n",
    "model100.fit(X_train, y_train)\n",
    "\n",
    "ypred1 = model100.predict(X_test)"
   ]
  },
  {
   "cell_type": "code",
   "execution_count": 18,
   "id": "ff39673a",
   "metadata": {},
   "outputs": [],
   "source": [
    "submission['count'] = ypred1\n",
    "submission.to_csv(\"RFR2_Bike.csv\", index = False)"
   ]
  },
  {
   "cell_type": "code",
   "execution_count": null,
   "id": "f6849906",
   "metadata": {},
   "outputs": [],
   "source": []
  }
 ],
 "metadata": {
  "kernelspec": {
   "display_name": "Python 3 (ipykernel)",
   "language": "python",
   "name": "python3"
  },
  "language_info": {
   "codemirror_mode": {
    "name": "ipython",
    "version": 3
   },
   "file_extension": ".py",
   "mimetype": "text/x-python",
   "name": "python",
   "nbconvert_exporter": "python",
   "pygments_lexer": "ipython3",
   "version": "3.9.13"
  }
 },
 "nbformat": 4,
 "nbformat_minor": 5
}
