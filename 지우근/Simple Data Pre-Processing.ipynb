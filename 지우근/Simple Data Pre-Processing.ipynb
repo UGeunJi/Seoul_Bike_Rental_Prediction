{
 "cells": [
  {
   "cell_type": "markdown",
   "id": "becfcb11",
   "metadata": {},
   "source": [
    "## 라이브러리 impport"
   ]
  },
  {
   "cell_type": "code",
   "execution_count": 7,
   "id": "3908d77b",
   "metadata": {},
   "outputs": [],
   "source": [
    "import pandas as pd\n",
    "import warnings\n",
    "import matplotlib.pyplot as plt\n",
    "import numpy as np\n",
    "import seaborn as sns\n",
    "plt.style.use('fivethirtyeight')\n",
    "warnings.filterwarnings('ignore')"
   ]
  },
  {
   "cell_type": "markdown",
   "id": "01ae83df",
   "metadata": {},
   "source": [
    "## 데이터 로딩"
   ]
  },
  {
   "cell_type": "code",
   "execution_count": 51,
   "id": "a71f34dc",
   "metadata": {},
   "outputs": [],
   "source": [
    "train = pd.read_csv('data/train.csv')\n",
    "test = pd.read_csv('data/test.csv')"
   ]
  },
  {
   "cell_type": "code",
   "execution_count": 46,
   "id": "741dc646",
   "metadata": {},
   "outputs": [
    {
     "data": {
      "text/html": [
       "<div>\n",
       "<style scoped>\n",
       "    .dataframe tbody tr th:only-of-type {\n",
       "        vertical-align: middle;\n",
       "    }\n",
       "\n",
       "    .dataframe tbody tr th {\n",
       "        vertical-align: top;\n",
       "    }\n",
       "\n",
       "    .dataframe thead th {\n",
       "        text-align: right;\n",
       "    }\n",
       "</style>\n",
       "<table border=\"1\" class=\"dataframe\">\n",
       "  <thead>\n",
       "    <tr style=\"text-align: right;\">\n",
       "      <th></th>\n",
       "      <th>id</th>\n",
       "      <th>hour</th>\n",
       "      <th>hour_bef_temperature</th>\n",
       "      <th>hour_bef_precipitation</th>\n",
       "      <th>hour_bef_windspeed</th>\n",
       "      <th>hour_bef_humidity</th>\n",
       "      <th>hour_bef_visibility</th>\n",
       "      <th>hour_bef_ozone</th>\n",
       "      <th>hour_bef_pm10</th>\n",
       "      <th>hour_bef_pm2.5</th>\n",
       "      <th>count</th>\n",
       "    </tr>\n",
       "  </thead>\n",
       "  <tbody>\n",
       "    <tr>\n",
       "      <th>0</th>\n",
       "      <td>3</td>\n",
       "      <td>20</td>\n",
       "      <td>16.3</td>\n",
       "      <td>1.0</td>\n",
       "      <td>1.5</td>\n",
       "      <td>89.0</td>\n",
       "      <td>576.0</td>\n",
       "      <td>0.027</td>\n",
       "      <td>76.0</td>\n",
       "      <td>33.0</td>\n",
       "      <td>49.0</td>\n",
       "    </tr>\n",
       "    <tr>\n",
       "      <th>1</th>\n",
       "      <td>6</td>\n",
       "      <td>13</td>\n",
       "      <td>20.1</td>\n",
       "      <td>0.0</td>\n",
       "      <td>1.4</td>\n",
       "      <td>48.0</td>\n",
       "      <td>916.0</td>\n",
       "      <td>0.042</td>\n",
       "      <td>73.0</td>\n",
       "      <td>40.0</td>\n",
       "      <td>159.0</td>\n",
       "    </tr>\n",
       "    <tr>\n",
       "      <th>2</th>\n",
       "      <td>7</td>\n",
       "      <td>6</td>\n",
       "      <td>13.9</td>\n",
       "      <td>0.0</td>\n",
       "      <td>0.7</td>\n",
       "      <td>79.0</td>\n",
       "      <td>1382.0</td>\n",
       "      <td>0.033</td>\n",
       "      <td>32.0</td>\n",
       "      <td>19.0</td>\n",
       "      <td>26.0</td>\n",
       "    </tr>\n",
       "    <tr>\n",
       "      <th>3</th>\n",
       "      <td>8</td>\n",
       "      <td>23</td>\n",
       "      <td>8.1</td>\n",
       "      <td>0.0</td>\n",
       "      <td>2.7</td>\n",
       "      <td>54.0</td>\n",
       "      <td>946.0</td>\n",
       "      <td>0.040</td>\n",
       "      <td>75.0</td>\n",
       "      <td>64.0</td>\n",
       "      <td>57.0</td>\n",
       "    </tr>\n",
       "    <tr>\n",
       "      <th>4</th>\n",
       "      <td>9</td>\n",
       "      <td>18</td>\n",
       "      <td>29.5</td>\n",
       "      <td>0.0</td>\n",
       "      <td>4.8</td>\n",
       "      <td>7.0</td>\n",
       "      <td>2000.0</td>\n",
       "      <td>0.057</td>\n",
       "      <td>27.0</td>\n",
       "      <td>11.0</td>\n",
       "      <td>431.0</td>\n",
       "    </tr>\n",
       "  </tbody>\n",
       "</table>\n",
       "</div>"
      ],
      "text/plain": [
       "   id  hour  hour_bef_temperature  hour_bef_precipitation  hour_bef_windspeed  \\\n",
       "0   3    20                  16.3                     1.0                 1.5   \n",
       "1   6    13                  20.1                     0.0                 1.4   \n",
       "2   7     6                  13.9                     0.0                 0.7   \n",
       "3   8    23                   8.1                     0.0                 2.7   \n",
       "4   9    18                  29.5                     0.0                 4.8   \n",
       "\n",
       "   hour_bef_humidity  hour_bef_visibility  hour_bef_ozone  hour_bef_pm10  \\\n",
       "0               89.0                576.0           0.027           76.0   \n",
       "1               48.0                916.0           0.042           73.0   \n",
       "2               79.0               1382.0           0.033           32.0   \n",
       "3               54.0                946.0           0.040           75.0   \n",
       "4                7.0               2000.0           0.057           27.0   \n",
       "\n",
       "   hour_bef_pm2.5  count  \n",
       "0            33.0   49.0  \n",
       "1            40.0  159.0  \n",
       "2            19.0   26.0  \n",
       "3            64.0   57.0  \n",
       "4            11.0  431.0  "
      ]
     },
     "execution_count": 46,
     "metadata": {},
     "output_type": "execute_result"
    }
   ],
   "source": [
    "train.head()"
   ]
  },
  {
   "cell_type": "markdown",
   "id": "ebb09a2a",
   "metadata": {},
   "source": [
    "- hour_bef_precipitation만 범주형 데이터"
   ]
  },
  {
   "cell_type": "code",
   "execution_count": 4,
   "id": "abbd3aff",
   "metadata": {},
   "outputs": [
    {
     "name": "stdout",
     "output_type": "stream",
     "text": [
      "(1459, 11)\n",
      "(715, 10)\n"
     ]
    }
   ],
   "source": [
    "print(train.shape)\n",
    "print(test.shape)"
   ]
  },
  {
   "cell_type": "markdown",
   "id": "c764bbf2",
   "metadata": {},
   "source": [
    "## 결측치 평균으로 대체"
   ]
  },
  {
   "cell_type": "code",
   "execution_count": 52,
   "id": "46c6e2c9",
   "metadata": {},
   "outputs": [
    {
     "data": {
      "text/plain": [
       "id                          0\n",
       "hour                        0\n",
       "hour_bef_temperature        2\n",
       "hour_bef_precipitation      2\n",
       "hour_bef_windspeed          9\n",
       "hour_bef_humidity           2\n",
       "hour_bef_visibility         2\n",
       "hour_bef_ozone             76\n",
       "hour_bef_pm10              90\n",
       "hour_bef_pm2.5            117\n",
       "count                       0\n",
       "dtype: int64"
      ]
     },
     "execution_count": 52,
     "metadata": {},
     "output_type": "execute_result"
    }
   ],
   "source": [
    "train.isna().sum()"
   ]
  },
  {
   "cell_type": "markdown",
   "id": "14668b1e",
   "metadata": {},
   "source": [
    "### 전체 기온 평균"
   ]
  },
  {
   "cell_type": "code",
   "execution_count": 23,
   "id": "4a001e81",
   "metadata": {},
   "outputs": [
    {
     "data": {
      "text/plain": [
       "16.717433081674653"
      ]
     },
     "execution_count": 23,
     "metadata": {},
     "output_type": "execute_result"
    }
   ],
   "source": [
    "train['hour_bef_temperature'].mean()"
   ]
  },
  {
   "cell_type": "markdown",
   "id": "f5386e8d",
   "metadata": {},
   "source": [
    "### 시간당 기온의 평균"
   ]
  },
  {
   "cell_type": "code",
   "execution_count": 20,
   "id": "3b6f2917",
   "metadata": {
    "scrolled": true
   },
   "outputs": [
    {
     "data": {
      "text/plain": [
       "hour\n",
       "0     14.788136\n",
       "1     14.155738\n",
       "2     13.747541\n",
       "3     13.357377\n",
       "4     13.001639\n",
       "5     12.673770\n",
       "6     12.377049\n",
       "7     12.191803\n",
       "8     12.600000\n",
       "9     14.318033\n",
       "10    16.242623\n",
       "11    18.019672\n",
       "12    19.457377\n",
       "13    20.648333\n",
       "14    21.234426\n",
       "15    21.744262\n",
       "16    22.015000\n",
       "17    21.603333\n",
       "18    20.926667\n",
       "19    19.704918\n",
       "20    18.191803\n",
       "21    16.978333\n",
       "22    16.063934\n",
       "23    15.418033\n",
       "Name: hour_bef_temperature, dtype: float64"
      ]
     },
     "execution_count": 20,
     "metadata": {},
     "output_type": "execute_result"
    }
   ],
   "source": [
    "train.groupby('hour').mean()['hour_bef_temperature']"
   ]
  },
  {
   "cell_type": "code",
   "execution_count": 22,
   "id": "fcb1c34d",
   "metadata": {
    "scrolled": true
   },
   "outputs": [
    {
     "data": {
      "text/plain": [
       "<matplotlib.lines.Line2D at 0x1c7dde31bb0>"
      ]
     },
     "execution_count": 22,
     "metadata": {},
     "output_type": "execute_result"
    },
    {
     "data": {
      "image/png": "[encoded data removed]",
      "text/plain": [
       "<Figure size 432x288 with 1 Axes>"
      ]
     },
     "metadata": {},
     "output_type": "display_data"
    }
   ],
   "source": [
    "train.groupby('hour').mean()['hour_bef_temperature'].plot()   # 시간당 기온의 평균\n",
    "plt.axhline(train.groupby('hour').mean()['hour_bef_temperature'].mean())  # 전체 기온의 평균"
   ]
  },
  {
   "cell_type": "code",
   "execution_count": 15,
   "id": "9c70c131",
   "metadata": {},
   "outputs": [
    {
     "data": {
      "text/plain": [
       "Text(16, 280, 'leave work')"
      ]
     },
     "execution_count": 15,
     "metadata": {},
     "output_type": "execute_result"
    },
    {
     "data": {
      "image/png": "[encoded data removed]",
      "text/plain": [
       "<Figure size 432x288 with 1 Axes>"
      ]
     },
     "metadata": {},
     "output_type": "display_data"
    }
   ],
   "source": [
    "train.groupby(['hour'])['count'].mean().plot()\n",
    "plt.axvline(x=8,color='r')\n",
    "plt.axvline(x=18,color='r')\n",
    "plt.text(6, 280, 'go work')\n",
    "plt.text(16, 280, 'leave work')"
   ]
  },
  {
   "cell_type": "markdown",
   "id": "9b66e516",
   "metadata": {},
   "source": [
    "### 결측치 시간당 기온으로 대체"
   ]
  },
  {
   "cell_type": "code",
   "execution_count": 53,
   "id": "050d14fe",
   "metadata": {},
   "outputs": [],
   "source": [
    "train['hour_bef_temperature'].fillna(value = train.groupby('hour').mean()['hour_bef_temperature'].mean(), inplace = True)"
   ]
  },
  {
   "cell_type": "code",
   "execution_count": 54,
   "id": "5d81c098",
   "metadata": {},
   "outputs": [
    {
     "data": {
      "text/plain": [
       "0       16.3\n",
       "1       20.1\n",
       "2       13.9\n",
       "3        8.1\n",
       "4       29.5\n",
       "        ... \n",
       "1454    16.8\n",
       "1455    10.8\n",
       "1456    18.3\n",
       "1457    20.7\n",
       "1458    21.1\n",
       "Name: hour_bef_temperature, Length: 1459, dtype: float64"
      ]
     },
     "execution_count": 54,
     "metadata": {},
     "output_type": "execute_result"
    }
   ],
   "source": [
    "train['hour_bef_temperature']"
   ]
  },
  {
   "cell_type": "code",
   "execution_count": 55,
   "id": "4f9bbf92",
   "metadata": {},
   "outputs": [
    {
     "data": {
      "text/plain": [
       "0"
      ]
     },
     "execution_count": 55,
     "metadata": {},
     "output_type": "execute_result"
    }
   ],
   "source": [
    "train['hour_bef_temperature'].isna().sum()"
   ]
  },
  {
   "cell_type": "markdown",
   "id": "8e0a071a",
   "metadata": {},
   "source": [
    "## 모든 결측치 대체"
   ]
  },
  {
   "cell_type": "code",
   "execution_count": 57,
   "id": "86190243",
   "metadata": {},
   "outputs": [],
   "source": [
    "train_isna_sum = train.isna().sum()"
   ]
  },
  {
   "cell_type": "code",
   "execution_count": 58,
   "id": "fbd2b14b",
   "metadata": {},
   "outputs": [],
   "source": [
    "na_columns = train_isna_sum[train_isna_sum != 0].index"
   ]
  },
  {
   "cell_type": "code",
   "execution_count": 60,
   "id": "9d4ad3a6",
   "metadata": {},
   "outputs": [],
   "source": [
    "def fill_bicycle_na(df, column) :\n",
    "    \n",
    "    df[column] = df[column].fillna(value = df.groupby('hour').mean()[column].mean())"
   ]
  },
  {
   "cell_type": "code",
   "execution_count": 61,
   "id": "6d1bcdaf",
   "metadata": {},
   "outputs": [
    {
     "name": "stdout",
     "output_type": "stream",
     "text": [
      "hour_bef_precipitation 결측값 대체 완료\n",
      "hour_bef_windspeed 결측값 대체 완료\n",
      "hour_bef_humidity 결측값 대체 완료\n",
      "hour_bef_visibility 결측값 대체 완료\n",
      "hour_bef_ozone 결측값 대체 완료\n",
      "hour_bef_pm10 결측값 대체 완료\n",
      "hour_bef_pm2.5 결측값 대체 완료\n"
     ]
    }
   ],
   "source": [
    "for col in na_columns:\n",
    "    \n",
    "    fill_bicycle_na(train, col)\n",
    "    \n",
    "    print(col, '결측값 대체 완료')"
   ]
  },
  {
   "cell_type": "code",
   "execution_count": 63,
   "id": "4e823981",
   "metadata": {},
   "outputs": [
    {
     "data": {
      "text/plain": [
       "id                        0\n",
       "hour                      0\n",
       "hour_bef_temperature      0\n",
       "hour_bef_precipitation    0\n",
       "hour_bef_windspeed        0\n",
       "hour_bef_humidity         0\n",
       "hour_bef_visibility       0\n",
       "hour_bef_ozone            0\n",
       "hour_bef_pm10             0\n",
       "hour_bef_pm2.5            0\n",
       "count                     0\n",
       "dtype: int64"
      ]
     },
     "execution_count": 63,
     "metadata": {},
     "output_type": "execute_result"
    }
   ],
   "source": [
    "train.isna().sum()"
   ]
  },
  {
   "cell_type": "markdown",
   "id": "da18ad1d",
   "metadata": {},
   "source": [
    "## test 데이터셋도 결측치 대체"
   ]
  },
  {
   "cell_type": "code",
   "execution_count": 64,
   "id": "7318d806",
   "metadata": {},
   "outputs": [
    {
     "data": {
      "text/plain": [
       "id                         0\n",
       "hour                       0\n",
       "hour_bef_temperature       1\n",
       "hour_bef_precipitation     1\n",
       "hour_bef_windspeed         1\n",
       "hour_bef_humidity          1\n",
       "hour_bef_visibility        1\n",
       "hour_bef_ozone            35\n",
       "hour_bef_pm10             37\n",
       "hour_bef_pm2.5            36\n",
       "dtype: int64"
      ]
     },
     "execution_count": 64,
     "metadata": {},
     "output_type": "execute_result"
    }
   ],
   "source": [
    "test.isna().sum()"
   ]
  },
  {
   "cell_type": "code",
   "execution_count": 65,
   "id": "2870cdc0",
   "metadata": {},
   "outputs": [],
   "source": [
    "test_isna_sum = test.isna().sum()"
   ]
  },
  {
   "cell_type": "code",
   "execution_count": 66,
   "id": "4760f796",
   "metadata": {},
   "outputs": [],
   "source": [
    "test_na_columns = test_isna_sum[test_isna_sum != 0].index"
   ]
  },
  {
   "cell_type": "code",
   "execution_count": 67,
   "id": "ae27568e",
   "metadata": {},
   "outputs": [
    {
     "name": "stdout",
     "output_type": "stream",
     "text": [
      "hour_bef_temperature 대체 완료\n",
      "hour_bef_precipitation 대체 완료\n",
      "hour_bef_windspeed 대체 완료\n",
      "hour_bef_humidity 대체 완료\n",
      "hour_bef_visibility 대체 완료\n",
      "hour_bef_ozone 대체 완료\n",
      "hour_bef_pm10 대체 완료\n",
      "hour_bef_pm2.5 대체 완료\n"
     ]
    }
   ],
   "source": [
    "for col in test_na_columns:\n",
    "    fill_bicycle_na(test, col)\n",
    "    print(col, '대체 완료')"
   ]
  },
  {
   "cell_type": "code",
   "execution_count": 68,
   "id": "7dfbcff5",
   "metadata": {
    "scrolled": true
   },
   "outputs": [
    {
     "data": {
      "text/plain": [
       "id                        0\n",
       "hour                      0\n",
       "hour_bef_temperature      0\n",
       "hour_bef_precipitation    0\n",
       "hour_bef_windspeed        0\n",
       "hour_bef_humidity         0\n",
       "hour_bef_visibility       0\n",
       "hour_bef_ozone            0\n",
       "hour_bef_pm10             0\n",
       "hour_bef_pm2.5            0\n",
       "dtype: int64"
      ]
     },
     "execution_count": 68,
     "metadata": {},
     "output_type": "execute_result"
    }
   ],
   "source": [
    "test.isna().sum()"
   ]
  },
  {
   "cell_type": "code",
   "execution_count": 70,
   "id": "e3f2d7ca",
   "metadata": {},
   "outputs": [],
   "source": [
    "train.to_csv(\"train_null_only.csv\", index = False)"
   ]
  },
  {
   "cell_type": "code",
   "execution_count": 71,
   "id": "4dacd4ad",
   "metadata": {},
   "outputs": [],
   "source": [
    "test.to_csv(\"test_null_only.csv\", index = False)"
   ]
  }
 ],
 "metadata": {
  "kernelspec": {
   "display_name": "Python 3 (ipykernel)",
   "language": "python",
   "name": "python3"
  },
  "language_info": {
   "codemirror_mode": {
    "name": "ipython",
    "version": 3
   },
   "file_extension": ".py",
   "mimetype": "text/x-python",
   "name": "python",
   "nbconvert_exporter": "python",
   "pygments_lexer": "ipython3",
   "version": "3.9.12"
  }
 },
 "nbformat": 4,
 "nbformat_minor": 5
}
