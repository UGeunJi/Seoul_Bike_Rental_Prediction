{
 "cells": [
  {
   "cell_type": "code",
   "execution_count": 1,
   "id": "ce293016",
   "metadata": {},
   "outputs": [],
   "source": [
    "import random\n",
    "import os\n",
    "import matplotlib.pyplot as plt\n",
    "import numpy as np\n",
    "import pandas as pd\n",
    "import scipy.stats as stats\n",
    "%matplotlib inline\n",
    "import seaborn as sns\n",
    "import warnings\n",
    "import plotly.express as px"
   ]
  },
  {
   "cell_type": "code",
   "execution_count": 2,
   "id": "8bded47c",
   "metadata": {},
   "outputs": [],
   "source": [
    "warnings.filterwarnings('ignore')"
   ]
  },
  {
   "cell_type": "code",
   "execution_count": 47,
   "id": "f0661370",
   "metadata": {},
   "outputs": [],
   "source": [
    "train = pd.read_csv('data/train_null_only.csv')\n",
    "test = pd.read_csv('data/test_null_only.csv')\n",
    "submission = pd.read_csv('data/submission.csv')"
   ]
  },
  {
   "cell_type": "code",
   "execution_count": 28,
   "id": "e36b16c6",
   "metadata": {},
   "outputs": [
    {
     "data": {
      "text/plain": [
       "((1459, 11), (715, 10))"
      ]
     },
     "execution_count": 28,
     "metadata": {},
     "output_type": "execute_result"
    }
   ],
   "source": [
    "train.shape, test.shape"
   ]
  },
  {
   "cell_type": "markdown",
   "id": "33aa7f01",
   "metadata": {},
   "source": [
    "## IQR 함수 선언"
   ]
  },
  {
   "cell_type": "code",
   "execution_count": 29,
   "id": "559d40c8",
   "metadata": {},
   "outputs": [],
   "source": [
    "def outlier_iqr(data, column): \n",
    "\n",
    "    # lower, upper 글로벌 변수 선언하기     \n",
    "    global lower, upper    \n",
    "    \n",
    "    # 4분위수 기준 지정하기     \n",
    "    q25, q75 = np.quantile(data[column], 0.25), np.quantile(data[column], 0.75)          \n",
    "    \n",
    "    # IQR 계산하기     \n",
    "    iqr = q75 - q25    \n",
    "    \n",
    "    # outlier cutoff 계산하기     \n",
    "    cut_off = iqr * 1.5          \n",
    "    \n",
    "    # lower와 upper bound 값 구하기     \n",
    "    lower, upper = q25 - cut_off, q75 + cut_off     \n",
    "    \n",
    "    print('IQR은',iqr, '이다.')     \n",
    "    print('lower bound 값은', lower, '이다.')     \n",
    "    print('upper bound 값은', upper, '이다.')    \n",
    "    \n",
    "    # 1사 분위와 4사 분위에 속해있는 데이터 각각 저장하기     \n",
    "    data1 = data[data[column] > upper]     \n",
    "    data2 = data[data[column] < lower]    \n",
    "    \n",
    "    # 이상치 총 개수 구하기\n",
    "    return print('총 이상치 개수는', data1.shape[0] + data2.shape[0], '이다.')"
   ]
  },
  {
   "cell_type": "markdown",
   "id": "05f8cc95",
   "metadata": {},
   "source": [
    "## hour_bef_ozone"
   ]
  },
  {
   "cell_type": "code",
   "execution_count": 30,
   "id": "642c23be",
   "metadata": {},
   "outputs": [
    {
     "name": "stdout",
     "output_type": "stream",
     "text": [
      "IQR은 0.024999999999999998 이다.\n",
      "lower bound 값은 -0.0115 이다.\n",
      "upper bound 값은 0.0885 이다.\n",
      "총 이상치 개수는 16 이다.\n"
     ]
    },
    {
     "data": {
      "text/plain": [
       "1443"
      ]
     },
     "execution_count": 30,
     "metadata": {},
     "output_type": "execute_result"
    }
   ],
   "source": [
    "outlier_iqr(train,'hour_bef_ozone')\n",
    "\n",
    "data_hour_bef_ozone = train[(train['hour_bef_ozone'] < upper) & (train['hour_bef_ozone'] > lower)]\n",
    "len(data_hour_bef_ozone)"
   ]
  },
  {
   "cell_type": "code",
   "execution_count": 31,
   "id": "d387e73f",
   "metadata": {},
   "outputs": [
    {
     "data": {
      "text/plain": [
       "<matplotlib.patches.Polygon at 0x2a9f910ef40>"
      ]
     },
     "execution_count": 31,
     "metadata": {},
     "output_type": "execute_result"
    },
    {
     "data": {
      "image/png": "[encoded data removed]",
      "text/plain": [
       "<Figure size 720x360 with 1 Axes>"
      ]
     },
     "metadata": {
      "needs_background": "light"
     },
     "output_type": "display_data"
    }
   ],
   "source": [
    "plt.figure(figsize=(10,5))\n",
    "\n",
    "sns.distplot(train.hour_bef_ozone, kde=False)\n",
    "\n",
    "# 이상치 영역 박스 그리기\n",
    "plt.axvspan(xmin=lower, xmax=train.hour_bef_ozone.min(), alpha=0.2, color='red')\n",
    "plt.axvspan(xmin=upper, xmax=train.hour_bef_ozone.max(), alpha=0.2, color='red')"
   ]
  },
  {
   "cell_type": "markdown",
   "id": "fe20e3ce",
   "metadata": {},
   "source": [
    "### hour_bef_ozone 이상치 16개 제거"
   ]
  },
  {
   "cell_type": "code",
   "execution_count": 32,
   "id": "d449b7a4",
   "metadata": {},
   "outputs": [],
   "source": [
    "train['hour_bef_ozone'] = data_hour_bef_ozone['hour_bef_ozone']"
   ]
  },
  {
   "cell_type": "code",
   "execution_count": 33,
   "id": "8f8fa3c9",
   "metadata": {},
   "outputs": [
    {
     "data": {
      "text/plain": [
       "16"
      ]
     },
     "execution_count": 33,
     "metadata": {},
     "output_type": "execute_result"
    }
   ],
   "source": [
    "train['hour_bef_ozone'].isnull().sum()"
   ]
  },
  {
   "cell_type": "markdown",
   "id": "39ec5733",
   "metadata": {},
   "source": [
    "### 결측치 시간당 평균량으로 대체"
   ]
  },
  {
   "cell_type": "code",
   "execution_count": 34,
   "id": "2d4ac62d",
   "metadata": {},
   "outputs": [],
   "source": [
    "train['hour_bef_ozone'].fillna(value = train.groupby('hour').mean()['hour_bef_ozone'].mean(), inplace = True)"
   ]
  },
  {
   "cell_type": "code",
   "execution_count": 35,
   "id": "a48644af",
   "metadata": {},
   "outputs": [
    {
     "data": {
      "text/plain": [
       "0"
      ]
     },
     "execution_count": 35,
     "metadata": {},
     "output_type": "execute_result"
    }
   ],
   "source": [
    "train['hour_bef_ozone'].isnull().sum()"
   ]
  },
  {
   "cell_type": "markdown",
   "id": "b63d5140",
   "metadata": {},
   "source": [
    "## test 셋도 ozone 이상치 제거"
   ]
  },
  {
   "cell_type": "code",
   "execution_count": 36,
   "id": "3f096d50",
   "metadata": {},
   "outputs": [
    {
     "name": "stdout",
     "output_type": "stream",
     "text": [
      "IQR은 0.023499999999999997 이다.\n",
      "lower bound 값은 -0.007249999999999996 이다.\n",
      "upper bound 값은 0.08675 이다.\n",
      "총 이상치 개수는 19 이다.\n"
     ]
    },
    {
     "data": {
      "text/plain": [
       "696"
      ]
     },
     "execution_count": 36,
     "metadata": {},
     "output_type": "execute_result"
    }
   ],
   "source": [
    "outlier_iqr(test,'hour_bef_ozone')\n",
    "\n",
    "data_hour_bef_ozone = test[(test['hour_bef_ozone'] < upper) & (test['hour_bef_ozone'] > lower)]\n",
    "len(data_hour_bef_ozone)"
   ]
  },
  {
   "cell_type": "code",
   "execution_count": 37,
   "id": "83e4ff4a",
   "metadata": {},
   "outputs": [],
   "source": [
    "test['hour_bef_ozone'] = data_hour_bef_ozone['hour_bef_ozone']"
   ]
  },
  {
   "cell_type": "code",
   "execution_count": 38,
   "id": "bb3d69a3",
   "metadata": {},
   "outputs": [
    {
     "data": {
      "text/plain": [
       "19"
      ]
     },
     "execution_count": 38,
     "metadata": {},
     "output_type": "execute_result"
    }
   ],
   "source": [
    "test['hour_bef_ozone'].isnull().sum()"
   ]
  },
  {
   "cell_type": "code",
   "execution_count": 39,
   "id": "b8473ffb",
   "metadata": {},
   "outputs": [],
   "source": [
    "test['hour_bef_ozone'].fillna(value = test.groupby('hour').mean()['hour_bef_ozone'].mean(), inplace = True)"
   ]
  },
  {
   "cell_type": "code",
   "execution_count": 40,
   "id": "b5a26e8e",
   "metadata": {},
   "outputs": [
    {
     "data": {
      "text/plain": [
       "0"
      ]
     },
     "execution_count": 40,
     "metadata": {},
     "output_type": "execute_result"
    }
   ],
   "source": [
    "test['hour_bef_ozone'].isnull().sum()"
   ]
  },
  {
   "cell_type": "markdown",
   "id": "14ba3823",
   "metadata": {},
   "source": [
    "### 오존 IQR 전처리 데이터셋 생성"
   ]
  },
  {
   "cell_type": "code",
   "execution_count": 41,
   "id": "08a28995",
   "metadata": {},
   "outputs": [],
   "source": [
    "train.to_csv(\"train_ozone.csv\", index = False)"
   ]
  },
  {
   "cell_type": "code",
   "execution_count": 42,
   "id": "ad90110c",
   "metadata": {},
   "outputs": [],
   "source": [
    "test.to_csv(\"test_ozone.csv\", index = False)"
   ]
  },
  {
   "cell_type": "markdown",
   "id": "280a2a30",
   "metadata": {},
   "source": [
    "## 모델 훈련"
   ]
  },
  {
   "cell_type": "code",
   "execution_count": 43,
   "id": "181928f1",
   "metadata": {},
   "outputs": [],
   "source": [
    "from sklearn.tree import DecisionTreeRegressor\n",
    "from sklearn.ensemble import RandomForestRegressor"
   ]
  },
  {
   "cell_type": "code",
   "execution_count": 44,
   "id": "e8ce26da",
   "metadata": {},
   "outputs": [],
   "source": [
    "features = ['hour', 'hour_bef_temperature', 'hour_bef_precipitation', 'hour_bef_windspeed', 'hour_bef_humidity', 'hour_bef_visibility', \n",
    "            'hour_bef_ozone', 'hour_bef_pm10', 'hour_bef_pm2.5']\n",
    "X_train = train[features]\n",
    "y_train = train['count']\n",
    "X_test = test[features]"
   ]
  },
  {
   "cell_type": "code",
   "execution_count": 45,
   "id": "058eccad",
   "metadata": {},
   "outputs": [],
   "source": [
    "model100 = RandomForestRegressor(n_estimators = 100, random_state = 0)\n",
    "\n",
    "model100.fit(X_train, y_train)\n",
    "\n",
    "ypred1 = model100.predict(X_test)"
   ]
  },
  {
   "cell_type": "code",
   "execution_count": 49,
   "id": "e2e57efc",
   "metadata": {},
   "outputs": [],
   "source": [
    "submission['count'] = ypred1\n",
    "submission.to_csv(\"model100_ozone.csv\", index = False)"
   ]
  }
 ],
 "metadata": {
  "kernelspec": {
   "display_name": "Python 3 (ipykernel)",
   "language": "python",
   "name": "python3"
  },
  "language_info": {
   "codemirror_mode": {
    "name": "ipython",
    "version": 3
   },
   "file_extension": ".py",
   "mimetype": "text/x-python",
   "name": "python",
   "nbconvert_exporter": "python",
   "pygments_lexer": "ipython3",
   "version": "3.9.12"
  }
 },
 "nbformat": 4,
 "nbformat_minor": 5
}
